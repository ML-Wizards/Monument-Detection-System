{
  "cells": [
    {
      "cell_type": "markdown",
      "metadata": {
        "id": "OERo2NF1gqMy"
      },
      "source": [
        "# New section"
      ]
    },
    {
      "cell_type": "code",
      "execution_count": null,
      "metadata": {
        "colab": {
          "base_uri": "https://localhost:8080/"
        },
        "id": "9H2Qus5ne74D",
        "outputId": "68042456-9226-4d2f-a6b3-799851499836"
      },
      "outputs": [
        {
          "output_type": "stream",
          "name": "stdout",
          "text": [
            "total training AKSHARDHAM images: 408\n",
            "total training india gate images: 425\n",
            "total training lotus temple images: 116\n",
            "total training qutub minar images: 367\n",
            "total training RED FORT images: 967\n",
            "['AKSHARDHAM IMAGES_159.jpeg', 'AKSHARDHAM IMAGES_166.jpeg', 'AKSHARDHAM IMAGES_147.jpeg', 'AKSHARDHAM IMAGES_165.jpeg', 'AKSHARDHAM IMAGES_157.jpeg', 'AKSHARDHAM IMAGES_155.jpeg', 'AKSHARDHAM IMAGES_156.jpeg', 'AKSHARDHAM IMAGES_142.jpeg', 'AKSHARDHAM IMAGES_14.jpeg', 'AKSHARDHAM IMAGES_143.jpeg']\n",
            "['india gate_295.jpeg', 'india gate_218.jpeg', 'india gate_65.jpeg', 'india gate_447.jpeg', 'india gate_142.jpeg', 'india gate_118.jpeg', 'india gate_117.jpeg', 'india gate_116.png', 'india gate_114.jpeg', 'india gate_113.jpeg']\n",
            "['loutus temple_243.jpeg', 'loutus temple_30.jpeg', 'loutus temple_169.jpeg', 'loutus temple_454.jpeg', 'loutus temple_315.jpeg', 'loutus temple_96.jpeg', 'loutus temple_240.png', 'loutus temple_236.jpeg', 'loutus temple_23.jpeg', 'loutus temple_256.jpeg']\n",
            "['372.jpg', '377.jpg', '369.jpg', '370.jpg', '362.jpg', '359.jpg', '36.jpg', '37.jpeg', '368.jpg', '364.jpg']\n",
            "['RED FORT_613.jpg', 'RED FORT_406.jpg', 'RED FORT_532.jpg', 'RED FORT_690.jpg', 'RED FORT_61.jpg', 'RED FORT_422.jpg', 'RED FORT_573.jpg', 'RED FORT_579.jpg', 'RED FORT_642.jpg', 'RED FORT_635.jpg']\n"
          ]
        }
      ],
      "source": [
        "import os\n",
        "AKSHARDHAM_dir = os.path.join('/content/drive/MyDrive/train/AKSHARDHAM_IMAGES')\n",
        "india_gate_dir = os.path.join('/content/drive/MyDrive/train/india_gate')\n",
        "lotus_temple_dir = os.path.join(\"/content/drive/MyDrive/train/loutus_temple\")\n",
        "qutub_minar_dir = os.path.join('/content/drive/MyDrive/train/qutub_minar')\n",
        "RED_FORT_dir = os.path.join('/content/drive/MyDrive/train/RED FORT')\n",
        "\n",
        "print('total training AKSHARDHAM images:', len(os.listdir(AKSHARDHAM_dir)))\n",
        "print('total training india gate images:', len(os.listdir(india_gate_dir)))\n",
        "print('total training lotus temple images:', len(os.listdir(lotus_temple_dir)))\n",
        "print('total training qutub minar images:', len(os.listdir(qutub_minar_dir)))\n",
        "print('total training RED FORT images:', len(os.listdir(RED_FORT_dir)))\n",
        "\n",
        "AKSHARDHAM_files = os.listdir(AKSHARDHAM_dir)\n",
        "print(AKSHARDHAM_files[:10])\n",
        "\n",
        "india_gate_files = os.listdir(india_gate_dir)\n",
        "print(india_gate_files[:10])\n",
        "\n",
        "lotus_temple_files = os.listdir(lotus_temple_dir)\n",
        "print(lotus_temple_files[:10])\n",
        "\n",
        "qutub_minar_files = os.listdir(qutub_minar_dir)\n",
        "print(qutub_minar_files[:10])\n",
        "\n",
        "RED_FORT_files = os.listdir(RED_FORT_dir)\n",
        "print(RED_FORT_files[:10])"
      ]
    },
    {
      "cell_type": "code",
      "execution_count": null,
      "metadata": {
        "colab": {
          "base_uri": "https://localhost:8080/",
          "height": 1000
        },
        "id": "032yvyq3fBZ1",
        "outputId": "d8441c38-db81-4ba0-8ed4-e3f0353b2c7c"
      },
      "outputs": [
        {
          "output_type": "display_data",
          "data": {
            "text/plain": [
              "<Figure size 432x288 with 1 Axes>"
            ],
            "image/png": "[encoded data removed]"
          },
          "metadata": {
            "needs_background": "light"
          }
        },
        {
          "output_type": "display_data",
          "data": {
            "text/plain": [
              "<Figure size 432x288 with 1 Axes>"
            ],
            "image/png": "[encoded data removed]"
          },
          "metadata": {
            "needs_background": "light"
          }
        },
        {
          "output_type": "display_data",
          "data": {
            "text/plain": [
              "<Figure size 432x288 with 1 Axes>"
            ],
            "image/png": "[encoded data removed]"
          },
          "metadata": {
            "needs_background": "light"
          }
        },
        {
          "output_type": "display_data",
          "data": {
            "text/plain": [
              "<Figure size 432x288 with 1 Axes>"
            ],
            "image/png": "[encoded data removed]"
          },
          "metadata": {
            "needs_background": "light"
          }
        },
        {
          "output_type": "display_data",
          "data": {
            "text/plain": [
              "<Figure size 432x288 with 1 Axes>"
            ],
            "image/png": "[encoded data removed]"
          },
          "metadata": {
            "needs_background": "light"
          }
        },
        {
          "output_type": "display_data",
          "data": {
            "text/plain": [
              "<Figure size 432x288 with 1 Axes>"
            ],
            "image/png": "[encoded data removed]"
          },
          "metadata": {
            "needs_background": "light"
          }
        },
        {
          "output_type": "display_data",
          "data": {
            "text/plain": [
              "<Figure size 432x288 with 1 Axes>"
            ],
            "image/png": "[encoded data removed]"
          },
          "metadata": {
            "needs_background": "light"
          }
        },
        {
          "output_type": "display_data",
          "data": {
            "text/plain": [
              "<Figure size 432x288 with 1 Axes>"
            ],
            "image/png": "[encoded data removed]"
          },
          "metadata": {
            "needs_background": "light"
          }
        },
        {
          "output_type": "display_data",
          "data": {
            "text/plain": [
              "<Figure size 432x288 with 1 Axes>"
            ],
            "image/png": "[encoded data removed]"
          },
          "metadata": {
            "needs_background": "light"
          }
        },
        {
          "output_type": "display_data",
          "data": {
            "text/plain": [
              "<Figure size 432x288 with 1 Axes>"
            ],
            "image/png": "[encoded data removed]"
          },
          "metadata": {
            "needs_background": "light"
          }
        }
      ],
      "source": [
        "%matplotlib inline\n",
        "\n",
        "import matplotlib.pyplot as plt\n",
        "import matplotlib.image as mpimg\n",
        "\n",
        "pic_index = 2\n",
        "\n",
        "next_AKSHARDHAM = [os.path.join(AKSHARDHAM_dir, fname) \n",
        "                for fname in AKSHARDHAM_files[pic_index-2:pic_index]]\n",
        "next_india_gate = [os.path.join(india_gate_dir, fname) \n",
        "                for fname in india_gate_files[pic_index-2:pic_index]]\n",
        "next_lotus_temple = [os.path.join(lotus_temple_dir, fname) \n",
        "                for fname in lotus_temple_files[pic_index-2:pic_index]]\n",
        "next_qutub_minar = [os.path.join(qutub_minar_dir, fname) \n",
        "                for fname in qutub_minar_files[pic_index-2:pic_index]]\n",
        "next_RED_FORT = [os.path.join(RED_FORT_dir, fname) \n",
        "                for fname in RED_FORT_files[pic_index-2:pic_index]]\n",
        "\n",
        "for i, img_path in enumerate(next_AKSHARDHAM+next_india_gate+next_lotus_temple+next_qutub_minar+next_RED_FORT):\n",
        "  #print(img_path)\n",
        "  img = mpimg.imread(img_path)\n",
        "  plt.imshow(img)\n",
        "  plt.axis('Off')\n",
        "  plt.show()"
      ]
    },
    {
      "cell_type": "code",
      "execution_count": null,
      "metadata": {
        "colab": {
          "base_uri": "https://localhost:8080/"
        },
        "id": "a4sVNvvYfCP5",
        "outputId": "995f132e-c6e1-4b26-8463-2164c85475a0"
      },
      "outputs": [
        {
          "output_type": "stream",
          "name": "stdout",
          "text": [
            ""
          ]
        }
      ],
      "source": [
        "import os\n",
        "from PIL import Image\n",
        "folder_path = '/content/drive/MyDrive/train'\n",
        "extensions = []\n",
        "for fldr in os.listdir(folder_path):\n",
        "    sub_folder_path = os.path.join(folder_path, fldr)\n",
        "    for filee in os.listdir(sub_folder_path):\n",
        "        file_path = os.path.join(sub_folder_path, filee)\n",
        "        print('** Path: {}  **'.format(file_path), end=\"\\r\", flush=True)\n",
        "        im = Image.open(file_path)\n",
        "        im = im.resize((28,28),Image.ANTIALIAS)\n",
        "        rgb_im = im.convert('RGB')\n",
        "        rgb_im.save(file_path,quality=95,optimize=True)\n",
        "        if filee.split('.')[1] not in extensions:\n",
        "            extensions.append(filee.split('.')[1])"
      ]
    },
    {
      "cell_type": "code",
      "source": [
        "import os\n",
        "from PIL import Image\n",
        "folder_path = '/content/drive/MyDrive/validation'\n",
        "extensions = []\n",
        "for fldr in os.listdir(folder_path):\n",
        "    sub_folder_path = os.path.join(folder_path, fldr)\n",
        "    for filee in os.listdir(sub_folder_path):\n",
        "        file_path = os.path.join(sub_folder_path, filee)\n",
        "        print('** Path: {}  **'.format(file_path), end=\"\\r\", flush=True)\n",
        "        im = Image.open(file_path)\n",
        "        im = im.resize((28,28),Image.ANTIALIAS)\n",
        "        rgb_im = im.convert('RGB')\n",
        "        rgb_im.save(file_path,quality=95,optimize=True)\n",
        "        if filee.split('.')[1] not in extensions:\n",
        "            extensions.append(filee.split('.')[1])"
      ],
      "metadata": {
        "colab": {
          "base_uri": "https://localhost:8080/"
        },
        "id": "wiAUwPa_CgDk",
        "outputId": "325bc2ab-c8ee-4391-e9e0-9d1c2077f0f8"
      },
      "execution_count": null,
      "outputs": [
        {
          "output_type": "stream",
          "name": "stdout",
          "text": [
            ""
          ]
        }
      ]
    },
    {
      "cell_type": "code",
      "execution_count": null,
      "metadata": {
        "colab": {
          "base_uri": "https://localhost:8080/"
        },
        "id": "vvlaDMTCfFr3",
        "outputId": "f7b2e1a8-71f4-497c-d8fa-db6a8c574f9a"
      },
      "outputs": [
        {
          "output_type": "stream",
          "name": "stdout",
          "text": [
            "Found 2283 images belonging to 5 classes.\n",
            "Found 704 images belonging to 5 classes.\n",
            "Model: \"sequential_5\"\n",
            "_________________________________________________________________\n",
            " Layer (type)                Output Shape              Param #   \n",
            "=================================================================\n",
            " conv2d_12 (Conv2D)          (None, 26, 26, 150)       4200      \n",
            "                                                                 \n",
            " max_pooling2d_12 (MaxPoolin  (None, 13, 13, 150)      0         \n",
            " g2D)                                                            \n",
            "                                                                 \n",
            " conv2d_13 (Conv2D)          (None, 11, 11, 150)       202650    \n",
            "                                                                 \n",
            " max_pooling2d_13 (MaxPoolin  (None, 5, 5, 150)        0         \n",
            " g2D)                                                            \n",
            "                                                                 \n",
            " flatten_5 (Flatten)         (None, 3750)              0         \n",
            "                                                                 \n",
            " dropout_5 (Dropout)         (None, 3750)              0         \n",
            "                                                                 \n",
            " dense_10 (Dense)            (None, 612)               2295612   \n",
            "                                                                 \n",
            " dense_11 (Dense)            (None, 5)                 3065      \n",
            "                                                                 \n",
            "=================================================================\n",
            "Total params: 2,505,527\n",
            "Trainable params: 2,505,527\n",
            "Non-trainable params: 0\n",
            "_________________________________________________________________\n",
            "Epoch 1/50\n",
            "20/20 [==============================] - 7s 288ms/step - loss: 1.7161 - accuracy: 0.3863 - val_loss: 1.5499 - val_accuracy: 0.1875\n",
            "Epoch 2/50\n",
            "20/20 [==============================] - 6s 277ms/step - loss: 1.4281 - accuracy: 0.4262 - val_loss: 1.2549 - val_accuracy: 0.4375\n",
            "Epoch 3/50\n",
            "20/20 [==============================] - 6s 275ms/step - loss: 1.3565 - accuracy: 0.4477 - val_loss: 1.1956 - val_accuracy: 0.6250\n",
            "Epoch 4/50\n",
            "20/20 [==============================] - 6s 277ms/step - loss: 1.3578 - accuracy: 0.4336 - val_loss: 1.3605 - val_accuracy: 0.3750\n",
            "Epoch 5/50\n",
            "20/20 [==============================] - 6s 275ms/step - loss: 1.2484 - accuracy: 0.5007 - val_loss: 2.1148 - val_accuracy: 0.2500\n",
            "Epoch 6/50\n",
            "20/20 [==============================] - 6s 275ms/step - loss: 1.2563 - accuracy: 0.5011 - val_loss: 1.0158 - val_accuracy: 0.7500\n",
            "Epoch 7/50\n",
            "20/20 [==============================] - 6s 276ms/step - loss: 1.1656 - accuracy: 0.5471 - val_loss: 1.4036 - val_accuracy: 0.3750\n",
            "Epoch 8/50\n",
            "20/20 [==============================] - 6s 278ms/step - loss: 1.1576 - accuracy: 0.5650 - val_loss: 0.5855 - val_accuracy: 0.7500\n",
            "Epoch 9/50\n",
            "20/20 [==============================] - 6s 273ms/step - loss: 1.1131 - accuracy: 0.5611 - val_loss: 0.6824 - val_accuracy: 0.8125\n",
            "Epoch 10/50\n",
            "20/20 [==============================] - 6s 280ms/step - loss: 1.0297 - accuracy: 0.5935 - val_loss: 0.7527 - val_accuracy: 0.6875\n",
            "Epoch 11/50\n",
            "20/20 [==============================] - 6s 279ms/step - loss: 1.0073 - accuracy: 0.6110 - val_loss: 0.8280 - val_accuracy: 0.6250\n",
            "Epoch 12/50\n",
            "20/20 [==============================] - 6s 278ms/step - loss: 0.9814 - accuracy: 0.6290 - val_loss: 0.3252 - val_accuracy: 0.8750\n",
            "Epoch 13/50\n",
            "20/20 [==============================] - 6s 274ms/step - loss: 0.9569 - accuracy: 0.6251 - val_loss: 0.5768 - val_accuracy: 0.8125\n",
            "Epoch 14/50\n",
            "20/20 [==============================] - 6s 291ms/step - loss: 0.9253 - accuracy: 0.6710 - val_loss: 0.9550 - val_accuracy: 0.6250\n",
            "Epoch 15/50\n",
            "20/20 [==============================] - 6s 275ms/step - loss: 0.8916 - accuracy: 0.6579 - val_loss: 0.6990 - val_accuracy: 0.6875\n",
            "Epoch 16/50\n",
            "20/20 [==============================] - 6s 275ms/step - loss: 0.8566 - accuracy: 0.6811 - val_loss: 0.3421 - val_accuracy: 0.8750\n",
            "Epoch 17/50\n",
            "20/20 [==============================] - 6s 275ms/step - loss: 0.8643 - accuracy: 0.6702 - val_loss: 0.7330 - val_accuracy: 0.6875\n",
            "Epoch 18/50\n",
            "20/20 [==============================] - 6s 275ms/step - loss: 0.8738 - accuracy: 0.6798 - val_loss: 0.6293 - val_accuracy: 0.7500\n",
            "Epoch 19/50\n",
            "20/20 [==============================] - 6s 276ms/step - loss: 0.7334 - accuracy: 0.7315 - val_loss: 0.5923 - val_accuracy: 0.8125\n",
            "Epoch 20/50\n",
            "20/20 [==============================] - 6s 274ms/step - loss: 0.8800 - accuracy: 0.6837 - val_loss: 0.5933 - val_accuracy: 0.8125\n",
            "Epoch 21/50\n",
            "20/20 [==============================] - 6s 275ms/step - loss: 0.6909 - accuracy: 0.7394 - val_loss: 0.2802 - val_accuracy: 0.9375\n",
            "Epoch 22/50\n",
            "20/20 [==============================] - 6s 279ms/step - loss: 0.7636 - accuracy: 0.7381 - val_loss: 0.4655 - val_accuracy: 0.8750\n",
            "Epoch 23/50\n",
            "20/20 [==============================] - 6s 276ms/step - loss: 0.7127 - accuracy: 0.7420 - val_loss: 0.3723 - val_accuracy: 0.8750\n",
            "Epoch 24/50\n",
            "20/20 [==============================] - 6s 281ms/step - loss: 0.6271 - accuracy: 0.7683 - val_loss: 0.4986 - val_accuracy: 0.8750\n",
            "Epoch 25/50\n",
            "20/20 [==============================] - 6s 273ms/step - loss: 0.7261 - accuracy: 0.7481 - val_loss: 0.8140 - val_accuracy: 0.6875\n",
            "Epoch 26/50\n",
            "20/20 [==============================] - 6s 277ms/step - loss: 0.6172 - accuracy: 0.7757 - val_loss: 0.1990 - val_accuracy: 0.9375\n",
            "Epoch 27/50\n",
            "20/20 [==============================] - 6s 278ms/step - loss: 0.6882 - accuracy: 0.7582 - val_loss: 0.4776 - val_accuracy: 0.8125\n",
            "Epoch 28/50\n",
            "20/20 [==============================] - 6s 279ms/step - loss: 0.5971 - accuracy: 0.7867 - val_loss: 0.1736 - val_accuracy: 0.9375\n",
            "Epoch 29/50\n",
            "20/20 [==============================] - 5s 273ms/step - loss: 0.6314 - accuracy: 0.7731 - val_loss: 0.3174 - val_accuracy: 0.8750\n",
            "Epoch 30/50\n",
            "20/20 [==============================] - 6s 274ms/step - loss: 0.5527 - accuracy: 0.8060 - val_loss: 0.2181 - val_accuracy: 0.9375\n",
            "Epoch 31/50\n",
            "20/20 [==============================] - 6s 275ms/step - loss: 0.6121 - accuracy: 0.7797 - val_loss: 0.2134 - val_accuracy: 0.9375\n",
            "Epoch 32/50\n",
            "20/20 [==============================] - 6s 273ms/step - loss: 0.5364 - accuracy: 0.8038 - val_loss: 0.4807 - val_accuracy: 0.7500\n",
            "Epoch 33/50\n",
            "20/20 [==============================] - 6s 280ms/step - loss: 0.5598 - accuracy: 0.8020 - val_loss: 0.3556 - val_accuracy: 0.8750\n",
            "Epoch 34/50\n",
            "20/20 [==============================] - 6s 280ms/step - loss: 0.5488 - accuracy: 0.8064 - val_loss: 0.2571 - val_accuracy: 0.9375\n",
            "Epoch 35/50\n",
            "20/20 [==============================] - 6s 291ms/step - loss: 0.5031 - accuracy: 0.8152 - val_loss: 0.3690 - val_accuracy: 0.7500\n",
            "Epoch 36/50\n",
            "20/20 [==============================] - 6s 276ms/step - loss: 0.4575 - accuracy: 0.8331 - val_loss: 0.0830 - val_accuracy: 0.9375\n",
            "Epoch 37/50\n",
            "20/20 [==============================] - 6s 273ms/step - loss: 0.5891 - accuracy: 0.7950 - val_loss: 0.2708 - val_accuracy: 0.8125\n",
            "Epoch 38/50\n",
            "20/20 [==============================] - 6s 275ms/step - loss: 0.4289 - accuracy: 0.8519 - val_loss: 0.2928 - val_accuracy: 0.8750\n",
            "Epoch 39/50\n",
            "20/20 [==============================] - 6s 274ms/step - loss: 0.4599 - accuracy: 0.8432 - val_loss: 0.3886 - val_accuracy: 0.8125\n",
            "Epoch 40/50\n",
            "20/20 [==============================] - 6s 277ms/step - loss: 0.3780 - accuracy: 0.8638 - val_loss: 0.3149 - val_accuracy: 0.9375\n",
            "Epoch 41/50\n",
            "20/20 [==============================] - 6s 275ms/step - loss: 0.5213 - accuracy: 0.8340 - val_loss: 0.2447 - val_accuracy: 0.8750\n",
            "Epoch 42/50\n",
            "20/20 [==============================] - 6s 274ms/step - loss: 0.4049 - accuracy: 0.8638 - val_loss: 0.5360 - val_accuracy: 0.8125\n",
            "Epoch 43/50\n",
            "20/20 [==============================] - 6s 275ms/step - loss: 0.4656 - accuracy: 0.8362 - val_loss: 0.1062 - val_accuracy: 0.9375\n",
            "Epoch 44/50\n",
            "20/20 [==============================] - 6s 273ms/step - loss: 0.4397 - accuracy: 0.8476 - val_loss: 0.3000 - val_accuracy: 0.8125\n",
            "Epoch 45/50\n",
            "20/20 [==============================] - 6s 274ms/step - loss: 0.4634 - accuracy: 0.8414 - val_loss: 0.5974 - val_accuracy: 0.8125\n",
            "Epoch 46/50\n",
            "20/20 [==============================] - 6s 278ms/step - loss: 0.4015 - accuracy: 0.8581 - val_loss: 0.0500 - val_accuracy: 1.0000\n",
            "Epoch 47/50\n",
            "20/20 [==============================] - 5s 273ms/step - loss: 0.3914 - accuracy: 0.8607 - val_loss: 0.0989 - val_accuracy: 0.9375\n",
            "Epoch 48/50\n",
            "20/20 [==============================] - 6s 275ms/step - loss: 0.4158 - accuracy: 0.8568 - val_loss: 0.5411 - val_accuracy: 0.7500\n",
            "Epoch 49/50\n",
            "20/20 [==============================] - 5s 273ms/step - loss: 0.3482 - accuracy: 0.8804 - val_loss: 0.0813 - val_accuracy: 1.0000\n",
            "Epoch 50/50\n",
            "20/20 [==============================] - 6s 273ms/step - loss: 0.3560 - accuracy: 0.8787 - val_loss: 0.1947 - val_accuracy: 0.9375\n"
          ]
        }
      ],
      "source": [
        "import tensorflow as tf\n",
        "import keras_preprocessing\n",
        "from keras_preprocessing import image\n",
        "from keras_preprocessing.image import ImageDataGenerator\n",
        "\n",
        "TRAINING_DIR = \"/content/drive/MyDrive/train/\"\n",
        "training_datagen = ImageDataGenerator(\n",
        "      rescale = 1./255,\n",
        "\t    rotation_range=40,\n",
        "      width_shift_range=0.2,\n",
        "      height_shift_range=0.2,\n",
        "      shear_range=0.2,\n",
        "      zoom_range=0.2,\n",
        "      horizontal_flip=True,\n",
        "      fill_mode='nearest')\n",
        "\n",
        "VALIDATION_DIR = \"/content/drive/MyDrive/validation/\"\n",
        "validation_datagen = ImageDataGenerator(rescale = 1./255)\n",
        "\n",
        "train_generator = training_datagen.flow_from_directory(\n",
        "\tTRAINING_DIR,\n",
        "\ttarget_size=(28, 28),\n",
        "\tclass_mode='categorical',\n",
        "  batch_size=120\n",
        ")\n",
        "\n",
        "validation_generator = validation_datagen.flow_from_directory(\n",
        "\tVALIDATION_DIR,\n",
        "\ttarget_size=(28, 28),\n",
        "\tclass_mode='categorical',\n",
        "  batch_size=16\n",
        ")\n",
        "\n",
        "model = tf.keras.models.Sequential([\n",
        "    # Note the input shape is the desired size of the image 150x150 with 3 bytes color\n",
        "    # This is the first convolution\n",
        "    tf.keras.layers.Conv2D(150, (3,3), activation='relu', input_shape=(28 , 28, 3)),\n",
        "    tf.keras.layers.MaxPooling2D(2, 2),\n",
        "    tf.keras.layers.Conv2D(150, (3,3), activation='relu', input_shape=(28 , 28, 3)),\n",
        "    tf.keras.layers.MaxPooling2D(2, 2),\n",
        "    tf.keras.layers.Flatten(),\n",
        "    tf.keras.layers.Dropout(0.5),\n",
        "    tf.keras.layers.Dense(612, activation='relu'),\n",
        "    tf.keras.layers.Dense(5, activation='softmax')\n",
        "])\n",
        "\n",
        "\n",
        "model.summary()\n",
        "\n",
        "model.compile(loss = 'categorical_crossentropy', optimizer='rmsprop', metrics=['accuracy'])\n",
        "\n",
        "history = model.fit(train_generator, epochs=50, steps_per_epoch=20, validation_data = validation_generator, verbose = 1, validation_steps=1)\n",
        "\n",
        "model.save(\"train.h5\")"
      ]
    },
    {
      "cell_type": "code",
      "execution_count": null,
      "metadata": {
        "id": "f-NMTWtTfLwA",
        "colab": {
          "base_uri": "https://localhost:8080/",
          "height": 298
        },
        "outputId": "a1112727-d166-4fd3-8777-e86b09eeefeb"
      },
      "outputs": [
        {
          "output_type": "display_data",
          "data": {
            "text/plain": [
              "<Figure size 432x288 with 1 Axes>"
            ],
            "image/png": "[encoded data removed]"
          },
          "metadata": {
            "needs_background": "light"
          }
        },
        {
          "output_type": "display_data",
          "data": {
            "text/plain": [
              "<Figure size 432x288 with 0 Axes>"
            ]
          },
          "metadata": {}
        }
      ],
      "source": [
        "import matplotlib.pyplot as plt\n",
        "acc = history.history['accuracy']\n",
        "val_acc = history.history['val_accuracy']\n",
        "loss = history.history['loss']\n",
        "val_loss = history.history['val_loss']\n",
        "\n",
        "epochs = range(len(acc))\n",
        "\n",
        "plt.plot(epochs, acc, 'r', label='Training accuracy')\n",
        "plt.plot(epochs, val_acc, 'b', label='Validation accuracy')\n",
        "plt.title('Training and validation accuracy')\n",
        "plt.legend(loc=0)\n",
        "plt.figure()\n",
        "\n",
        "\n",
        "plt.show()"
      ]
    }
  ],
  "metadata": {
    "colab": {
      "collapsed_sections": [],
      "name": "project.ipynb",
      "provenance": []
    },
    "kernelspec": {
      "display_name": "Python 3",
      "name": "python3"
    },
    "language_info": {
      "name": "python"
    },
    "accelerator": "GPU"
  },
  "nbformat": 4,
  "nbformat_minor": 0
}