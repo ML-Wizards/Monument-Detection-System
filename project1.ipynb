{
  "nbformat": 4,
  "nbformat_minor": 0,
  "metadata": {
    "colab": {
      "name": "project1.ipynb",
      "provenance": [],
      "collapsed_sections": [],
      "mount_file_id": "1AoPBjfCG8XsTDbb99Lks1qrhS_jxXxBj",
      "authorship_tag": "ABX9TyM7vV8O0E16yHVvWtAZ0rTW",
      "include_colab_link": true
    },
    "kernelspec": {
      "name": "python3",
      "display_name": "Python 3"
    },
    "language_info": {
      "name": "python"
    },
    "accelerator": "GPU"
  },
  "cells": [
    {
      "cell_type": "markdown",
      "metadata": {
        "id": "view-in-github",
        "colab_type": "text"
      },
      "source": [
        "<a href=\"https://colab.research.google.com/github/ML-Wizards/Monument-Detection-System/blob/main/project1.ipynb\" target=\"_parent\"><img src=\"https://colab.research.google.com/assets/colab-badge.svg\" alt=\"Open In Colab\"/></a>"
      ]
    },
    {
      "cell_type": "code",
      "execution_count": 2,
      "metadata": {
        "id": "La79v94rSI0e"
      },
      "outputs": [],
      "source": [
        "import os\n",
        "AKSHARDHAM_dir = os.path.join('/content/drive/MyDrive/train/AKSHARDHAM_IMAGES')\n",
        "india_gate_dir = os.path.join('/content/drive/MyDrive/train/india_gate')\n",
        "lotus_temple_dir = os.path.join(\"/content/drive/MyDrive/train/loutus_temple\")\n",
        "qutub_minar_dir = os.path.join('/content/drive/MyDrive/train/qutub_minar')\n",
        "RED_FORT_dir = os.path.join('/content/drive/MyDrive/train/RED FORT')\n",
        "\n",
        "AKSHARDHAM_val_dir = os.path.join('/content/drive/MyDrive/validation/AKSHARDHAM_IMAGES')\n",
        "india_gate_val_dir = os.path.join('/content/drive/MyDrive/validation/india_gate')\n",
        "lotus_temple_val_dir = os.path.join(\"/content/drive/MyDrive/validation/loutus_temple\")\n",
        "qutub_minar_val_dir = os.path.join('/content/drive/MyDrive/validation/qutub_minar')\n",
        "RED_FORT_val_dir = os.path.join('/content/drive/MyDrive/validation/RED FORT')\n",
        "\n",
        "num_AKSHARDHAM_train=len(os.listdir(AKSHARDHAM_dir))\n",
        "num_india_gate_train=len(os.listdir(india_gate_dir))\n",
        "num_lotus_temple_train=len(os.listdir(lotus_temple_dir))\n",
        "num_qutub_minar_train=len(os.listdir(qutub_minar_dir))\n",
        "num_RED_FORT_train=len(os.listdir(RED_FORT_dir))\n",
        "\n",
        "num_AKSHARDHAM_val=len(os.listdir(AKSHARDHAM_val_dir))\n",
        "num_india_gate_val=len(os.listdir(india_gate_val_dir))\n",
        "num_lotus_temple_val=len(os.listdir(lotus_temple_val_dir))\n",
        "num_qutub_minar_val=len(os.listdir(qutub_minar_val_dir))\n",
        "num_RED_FORT_val=len(os.listdir(RED_FORT_val_dir))\n",
        "\n",
        "AKSHARDHAM_files = os.listdir(AKSHARDHAM_dir)\n",
        "india_gate_files = os.listdir(india_gate_dir)\n",
        "lotus_temple_files = os.listdir(lotus_temple_dir)\n",
        "qutub_minar_files = os.listdir(qutub_minar_dir)\n",
        "RED_FORT_files = os.listdir(RED_FORT_dir)\n",
        "\n",
        "num_AKSHARDHAM_total=num_AKSHARDHAM_train+num_AKSHARDHAM_val\n",
        "num_india_gate_total=num_india_gate_train+num_india_gate_val\n",
        "num_lotus_temple_total=num_lotus_temple_train+num_lotus_temple_val\n",
        "num_qutub_minar_total=num_qutub_minar_train+num_qutub_minar_val\n",
        "num_RED_FORT_total=num_RED_FORT_train+num_RED_FORT_val"
      ]
    },
    {
      "cell_type": "code",
      "source": [
        "import tensorflow as tf\n",
        "from tensorflow.keras.preprocessing.image import ImageDataGenerator\n",
        "import os\n",
        "import matplotlib.pyplot as plt\n",
        "import numpy as np\n",
        "import logging\n",
        "logger = tf.get_logger()\n",
        "logger.setLevel(logging.ERROR)"
      ],
      "metadata": {
        "id": "OuPC_bJMS6Ff"
      },
      "execution_count": 3,
      "outputs": []
    },
    {
      "cell_type": "code",
      "source": [
        "import os\n",
        "from PIL import Image\n",
        "folder_path = '/content/drive/MyDrive/train'\n",
        "extensions = []\n",
        "for fldr in os.listdir(folder_path):\n",
        "    sub_folder_path = os.path.join(folder_path, fldr)\n",
        "    for filee in os.listdir(sub_folder_path):\n",
        "        file_path = os.path.join(sub_folder_path, filee)\n",
        "        print('** Path: {}  **'.format(file_path), end=\"\\r\", flush=True)\n",
        "        im = Image.open(file_path)\n",
        "        im = im.resize((150,150),Image.ANTIALIAS)\n",
        "        rgb_im = im.convert('RGB')\n",
        "        rgb_im.save(file_path,quality=95,optimize=True)\n",
        "        if filee.split('.')[1] not in extensions:\n",
        "            extensions.append(filee.split('.')[1])"
      ],
      "metadata": {
        "colab": {
          "base_uri": "https://localhost:8080/"
        },
        "id": "vuxyK1oYTHqe",
        "outputId": "7713a83d-6243-4695-8d06-ca98458e1db6"
      },
      "execution_count": 4,
      "outputs": [
        {
          "output_type": "stream",
          "name": "stdout",
          "text": [
            ""
          ]
        }
      ]
    },
    {
      "cell_type": "code",
      "source": [
        "import os\n",
        "from PIL import Image\n",
        "folder_path = '/content/drive/MyDrive/validation'\n",
        "extensions = []\n",
        "for fldr in os.listdir(folder_path):\n",
        "    sub_folder_path = os.path.join(folder_path, fldr)\n",
        "    for filee in os.listdir(sub_folder_path):\n",
        "        file_path = os.path.join(sub_folder_path, filee)\n",
        "        print('** Path: {}  **'.format(file_path), end=\"\\r\", flush=True)\n",
        "        im = Image.open(file_path)\n",
        "        im = im.resize((150,150),Image.ANTIALIAS)\n",
        "        rgb_im = im.convert('RGB')\n",
        "        rgb_im.save(file_path,quality=95,optimize=True)\n",
        "        if filee.split('.')[1] not in extensions:\n",
        "            extensions.append(filee.split('.')[1])"
      ],
      "metadata": {
        "colab": {
          "base_uri": "https://localhost:8080/"
        },
        "id": "cY1wLa4mTRI8",
        "outputId": "b45ab5c3-727a-43f6-f772-329441de4f48"
      },
      "execution_count": 5,
      "outputs": [
        {
          "output_type": "stream",
          "name": "stdout",
          "text": [
            ""
          ]
        }
      ]
    },
    {
      "cell_type": "code",
      "source": [
        "BATCH_SIZE = 100  # Number of training examples to process before updating our models variables\n",
        "IMG_SHAPE  = 150  # Our training data consists of images with width of 150 pixels and height of 150 pixels"
      ],
      "metadata": {
        "id": "zoi2FdVHTUJ4"
      },
      "execution_count": 6,
      "outputs": []
    },
    {
      "cell_type": "code",
      "source": [
        "training_datagen      = ImageDataGenerator(rescale=1./255)  # Generator for our training data\n",
        "validation_datagen = ImageDataGenerator(rescale=1./255)  # Generator for our validation data"
      ],
      "metadata": {
        "colab": {
          "base_uri": "https://localhost:8080/",
          "height": 190
        },
        "id": "vIhT2mQUWMNG",
        "outputId": "93691c8a-70d4-4bb6-ebdb-b8c71db88635"
      },
      "execution_count": 4,
      "outputs": [
        {
          "output_type": "error",
          "ename": "NameError",
          "evalue": "ignored",
          "traceback": [
            "\u001b[0;31m---------------------------------------------------------------------------\u001b[0m",
            "\u001b[0;31mNameError\u001b[0m                                 Traceback (most recent call last)",
            "\u001b[0;32m<ipython-input-4-356f089266c2>\u001b[0m in \u001b[0;36m<module>\u001b[0;34m()\u001b[0m\n\u001b[0;32m----> 1\u001b[0;31m \u001b[0mtraining_datagen\u001b[0m      \u001b[0;34m=\u001b[0m \u001b[0mImageDataGenerator\u001b[0m\u001b[0;34m(\u001b[0m\u001b[0mrescale\u001b[0m\u001b[0;34m=\u001b[0m\u001b[0;36m1.\u001b[0m\u001b[0;34m/\u001b[0m\u001b[0;36m255\u001b[0m\u001b[0;34m)\u001b[0m  \u001b[0;31m# Generator for our training data\u001b[0m\u001b[0;34m\u001b[0m\u001b[0;34m\u001b[0m\u001b[0m\n\u001b[0m\u001b[1;32m      2\u001b[0m \u001b[0mvalidation_datagen\u001b[0m \u001b[0;34m=\u001b[0m \u001b[0mImageDataGenerator\u001b[0m\u001b[0;34m(\u001b[0m\u001b[0mrescale\u001b[0m\u001b[0;34m=\u001b[0m\u001b[0;36m1.\u001b[0m\u001b[0;34m/\u001b[0m\u001b[0;36m255\u001b[0m\u001b[0;34m)\u001b[0m  \u001b[0;31m# Generator for our validation data\u001b[0m\u001b[0;34m\u001b[0m\u001b[0;34m\u001b[0m\u001b[0m\n",
            "\u001b[0;31mNameError\u001b[0m: name 'ImageDataGenerator' is not defined"
          ]
        }
      ]
    },
    {
      "cell_type": "code",
      "source": [
        "TRAINING_DIR = \"/content/drive/MyDrive/train/\"\n",
        "training_datagen = ImageDataGenerator(\n",
        "      rescale = 1./255,\n",
        "\t    rotation_range=40,\n",
        "      width_shift_range=0.2,\n",
        "      height_shift_range=0.2,\n",
        "      shear_range=0.2,\n",
        "      zoom_range=0.2,\n",
        "      horizontal_flip=True,\n",
        "      fill_mode='nearest')\n",
        "\n",
        "VALIDATION_DIR = \"/content/drive/MyDrive/validation/\"\n",
        "validation_datagen = ImageDataGenerator(rescale = 1./255)\n",
        "\n",
        "train_generator = training_datagen.flow_from_directory(\n",
        "\tTRAINING_DIR,\n",
        "\ttarget_size=(150, 150),\n",
        "  shuffle=True,\n",
        "\tclass_mode='categorical',\n",
        "  batch_size=120\n",
        ")\n",
        "\n",
        "validation_generator = validation_datagen.flow_from_directory(\n",
        "\tVALIDATION_DIR,\n",
        "\ttarget_size=(150, 150),\n",
        "  shuffle=False,\n",
        "\tclass_mode='categorical',\n",
        "  batch_size=16\n",
        ")"
      ],
      "metadata": {
        "colab": {
          "base_uri": "https://localhost:8080/"
        },
        "id": "PsuhssZ2WOyv",
        "outputId": "e04c9fe3-8a0a-4e6f-a5ff-7ca5c8e83ea4"
      },
      "execution_count": 6,
      "outputs": [
        {
          "output_type": "stream",
          "name": "stdout",
          "text": [
            "Found 2282 images belonging to 5 classes.\n",
            "Found 704 images belonging to 5 classes.\n"
          ]
        }
      ]
    },
    {
      "cell_type": "code",
      "source": [
        "sample_training_images, _ = next(train_generator) "
      ],
      "metadata": {
        "id": "83DI4RNRWghG"
      },
      "execution_count": 9,
      "outputs": []
    },
    {
      "cell_type": "code",
      "source": [
        "\n",
        "def plotImages(images_arr):\n",
        "    fig, axes = plt.subplots(1, 5, figsize=(20,20))\n",
        "    axes = axes.flatten()\n",
        "    for img, ax in zip(images_arr, axes):\n",
        "        ax.imshow(img)\n",
        "    plt.tight_layout()\n",
        "    plt.show()"
      ],
      "metadata": {
        "id": "5LLmdZ7yWuAS"
      },
      "execution_count": 10,
      "outputs": []
    },
    {
      "cell_type": "code",
      "source": [
        "plotImages(sample_training_images[:5])  # Plot images 0-4\n"
      ],
      "metadata": {
        "colab": {
          "base_uri": "https://localhost:8080/",
          "height": 497
        },
        "id": "52q60RYfWyVF",
        "outputId": "1e2ab432-e393-4dda-b736-568ce7f2aa36"
      },
      "execution_count": 18,
      "outputs": [
        {
          "output_type": "error",
          "ename": "KeyboardInterrupt",
          "evalue": "ignored",
          "traceback": [
            "\u001b[0;31m---------------------------------------------------------------------------\u001b[0m",
            "\u001b[0;31mKeyboardInterrupt\u001b[0m                         Traceback (most recent call last)",
            "\u001b[0;32m/usr/local/lib/python3.7/dist-packages/zmq/backend/cython/checkrc.pxd\u001b[0m in \u001b[0;36mzmq.backend.cython.checkrc._check_rc\u001b[0;34m()\u001b[0m\n",
            "\u001b[0;31mKeyboardInterrupt\u001b[0m: "
          ]
        },
        {
          "output_type": "stream",
          "name": "stderr",
          "text": [
            "Exception ignored in: 'zmq.backend.cython.message.Frame.__dealloc__'\n",
            "Traceback (most recent call last):\n",
            "  File \"zmq/backend/cython/checkrc.pxd\", line 13, in zmq.backend.cython.checkrc._check_rc\n",
            "KeyboardInterrupt\n"
          ]
        },
        {
          "output_type": "display_data",
          "data": {
            "text/plain": [
              "<Figure size 1440x1440 with 5 Axes>"
            ],
            "image/png": "[encoded data removed]"
          },
          "metadata": {
            "needs_background": "light"
          }
        }
      ]
    },
    {
      "cell_type": "code",
      "source": [
        "\n",
        "model = tf.keras.models.Sequential([\n",
        "    tf.keras.layers.Conv2D(32, (3,3), activation='relu', input_shape=(150, 150, 3)),\n",
        "    tf.keras.layers.MaxPooling2D(2, 2),\n",
        "\n",
        "    tf.keras.layers.Conv2D(64, (3,3), activation='relu'),\n",
        "    tf.keras.layers.MaxPooling2D(2,2),\n",
        "    \n",
        "    tf.keras.layers.Conv2D(128, (3,3), activation='relu'),\n",
        "    tf.keras.layers.MaxPooling2D(2,2),\n",
        "    \n",
        "    tf.keras.layers.Conv2D(128, (3,3), activation='relu'),\n",
        "    tf.keras.layers.MaxPooling2D(2,2),\n",
        "    \n",
        "    tf.keras.layers.Flatten(),\n",
        "    tf.keras.layers.Dense(512, activation='relu'),\n",
        "    tf.keras.layers.Dense(5, activation=\"softmax\")\n",
        "])\n",
        "\n",
        "model.summary()\n",
        "\n",
        "model.compile(loss = 'categorical_crossentropy', optimizer='rmsprop', metrics=['accuracy'])\n",
        "\n",
        "history = model.fit(train_generator, epochs=50, steps_per_epoch=20, validation_data = validation_generator, verbose = 1, validation_steps=1)\n",
        "\n",
        "model.save(\"train.h5\")"
      ],
      "metadata": {
        "colab": {
          "base_uri": "https://localhost:8080/"
        },
        "id": "k8QKo4VyW9Kq",
        "outputId": "7acdb042-470f-4abc-80ff-602e97961c07"
      },
      "execution_count": 7,
      "outputs": [
        {
          "output_type": "stream",
          "name": "stdout",
          "text": [
            "Model: \"sequential\"\n",
            "_________________________________________________________________\n",
            " Layer (type)                Output Shape              Param #   \n",
            "=================================================================\n",
            " conv2d (Conv2D)             (None, 148, 148, 32)      896       \n",
            "                                                                 \n",
            " max_pooling2d (MaxPooling2D  (None, 74, 74, 32)       0         \n",
            " )                                                               \n",
            "                                                                 \n",
            " conv2d_1 (Conv2D)           (None, 72, 72, 64)        18496     \n",
            "                                                                 \n",
            " max_pooling2d_1 (MaxPooling  (None, 36, 36, 64)       0         \n",
            " 2D)                                                             \n",
            "                                                                 \n",
            " conv2d_2 (Conv2D)           (None, 34, 34, 128)       73856     \n",
            "                                                                 \n",
            " max_pooling2d_2 (MaxPooling  (None, 17, 17, 128)      0         \n",
            " 2D)                                                             \n",
            "                                                                 \n",
            " conv2d_3 (Conv2D)           (None, 15, 15, 128)       147584    \n",
            "                                                                 \n",
            " max_pooling2d_3 (MaxPooling  (None, 7, 7, 128)        0         \n",
            " 2D)                                                             \n",
            "                                                                 \n",
            " flatten (Flatten)           (None, 6272)              0         \n",
            "                                                                 \n",
            " dense (Dense)               (None, 512)               3211776   \n",
            "                                                                 \n",
            " dense_1 (Dense)             (None, 5)                 2565      \n",
            "                                                                 \n",
            "=================================================================\n",
            "Total params: 3,455,173\n",
            "Trainable params: 3,455,173\n",
            "Non-trainable params: 0\n",
            "_________________________________________________________________\n",
            "Epoch 1/50\n",
            "20/20 [==============================] - 348s 17s/step - loss: 1.5144 - accuracy: 0.3663 - val_loss: 1.4608 - val_accuracy: 0.0000e+00\n",
            "Epoch 2/50\n",
            "20/20 [==============================] - 19s 953ms/step - loss: 1.4468 - accuracy: 0.3992 - val_loss: 1.5780 - val_accuracy: 0.0000e+00\n",
            "Epoch 3/50\n",
            "20/20 [==============================] - 19s 953ms/step - loss: 1.3743 - accuracy: 0.4448 - val_loss: 1.6583 - val_accuracy: 0.0000e+00\n",
            "Epoch 4/50\n",
            "20/20 [==============================] - 20s 970ms/step - loss: 1.5300 - accuracy: 0.4010 - val_loss: 2.2660 - val_accuracy: 0.0000e+00\n",
            "Epoch 5/50\n",
            "20/20 [==============================] - 20s 992ms/step - loss: 1.3775 - accuracy: 0.4557 - val_loss: 1.4757 - val_accuracy: 0.1875\n",
            "Epoch 6/50\n",
            "20/20 [==============================] - 20s 978ms/step - loss: 1.3954 - accuracy: 0.4597 - val_loss: 1.3547 - val_accuracy: 0.0000e+00\n",
            "Epoch 7/50\n",
            "20/20 [==============================] - 20s 987ms/step - loss: 1.1949 - accuracy: 0.5083 - val_loss: 2.3290 - val_accuracy: 0.0625\n",
            "Epoch 8/50\n",
            "20/20 [==============================] - 20s 988ms/step - loss: 1.2820 - accuracy: 0.4812 - val_loss: 1.7363 - val_accuracy: 0.1250\n",
            "Epoch 9/50\n",
            "20/20 [==============================] - 20s 988ms/step - loss: 1.1736 - accuracy: 0.5320 - val_loss: 1.1583 - val_accuracy: 0.1250\n",
            "Epoch 10/50\n",
            "20/20 [==============================] - 20s 1s/step - loss: 1.1401 - accuracy: 0.5749 - val_loss: 1.1285 - val_accuracy: 0.3125\n",
            "Epoch 11/50\n",
            "20/20 [==============================] - 20s 982ms/step - loss: 1.0074 - accuracy: 0.6240 - val_loss: 0.6585 - val_accuracy: 0.8125\n",
            "Epoch 12/50\n",
            "20/20 [==============================] - 20s 991ms/step - loss: 1.1742 - accuracy: 0.6008 - val_loss: 1.1487 - val_accuracy: 0.1875\n",
            "Epoch 13/50\n",
            "20/20 [==============================] - 20s 987ms/step - loss: 0.9128 - accuracy: 0.6455 - val_loss: 0.4704 - val_accuracy: 0.8750\n",
            "Epoch 14/50\n",
            "20/20 [==============================] - 20s 987ms/step - loss: 1.0181 - accuracy: 0.6275 - val_loss: 0.8134 - val_accuracy: 0.8125\n",
            "Epoch 15/50\n",
            "20/20 [==============================] - 20s 989ms/step - loss: 0.8933 - accuracy: 0.7025 - val_loss: 0.9399 - val_accuracy: 0.5000\n",
            "Epoch 16/50\n",
            "20/20 [==============================] - 20s 980ms/step - loss: 0.7618 - accuracy: 0.7309 - val_loss: 1.9157 - val_accuracy: 0.0625\n",
            "Epoch 17/50\n",
            "20/20 [==============================] - 20s 985ms/step - loss: 0.8646 - accuracy: 0.7143 - val_loss: 0.7416 - val_accuracy: 0.5625\n",
            "Epoch 18/50\n",
            "20/20 [==============================] - 20s 984ms/step - loss: 0.7980 - accuracy: 0.7033 - val_loss: 0.2898 - val_accuracy: 0.9375\n",
            "Epoch 19/50\n",
            "20/20 [==============================] - 20s 984ms/step - loss: 0.6533 - accuracy: 0.7796 - val_loss: 0.7036 - val_accuracy: 0.6875\n",
            "Epoch 20/50\n",
            "20/20 [==============================] - 20s 983ms/step - loss: 0.6388 - accuracy: 0.7669 - val_loss: 0.3131 - val_accuracy: 0.9375\n",
            "Epoch 21/50\n",
            "20/20 [==============================] - 20s 989ms/step - loss: 0.6142 - accuracy: 0.7805 - val_loss: 0.4122 - val_accuracy: 0.8750\n",
            "Epoch 22/50\n",
            "20/20 [==============================] - 20s 982ms/step - loss: 0.5711 - accuracy: 0.8037 - val_loss: 6.3905 - val_accuracy: 0.0000e+00\n",
            "Epoch 23/50\n",
            "20/20 [==============================] - 20s 983ms/step - loss: 0.6414 - accuracy: 0.8098 - val_loss: 0.4583 - val_accuracy: 0.8750\n",
            "Epoch 24/50\n",
            "20/20 [==============================] - 20s 978ms/step - loss: 0.5356 - accuracy: 0.8282 - val_loss: 0.7557 - val_accuracy: 0.6250\n",
            "Epoch 25/50\n",
            "20/20 [==============================] - 20s 982ms/step - loss: 0.4420 - accuracy: 0.8457 - val_loss: 0.5976 - val_accuracy: 0.7500\n",
            "Epoch 26/50\n",
            "20/20 [==============================] - 20s 998ms/step - loss: 0.4716 - accuracy: 0.8462 - val_loss: 0.1224 - val_accuracy: 1.0000\n",
            "Epoch 27/50\n",
            "20/20 [==============================] - 20s 982ms/step - loss: 0.6273 - accuracy: 0.8133 - val_loss: 0.2533 - val_accuracy: 0.9375\n",
            "Epoch 28/50\n",
            "20/20 [==============================] - 20s 983ms/step - loss: 0.7212 - accuracy: 0.8054 - val_loss: 0.1705 - val_accuracy: 0.9375\n",
            "Epoch 29/50\n",
            "20/20 [==============================] - 20s 983ms/step - loss: 0.5485 - accuracy: 0.8611 - val_loss: 0.1480 - val_accuracy: 0.9375\n",
            "Epoch 30/50\n",
            "20/20 [==============================] - 20s 985ms/step - loss: 0.2945 - accuracy: 0.8996 - val_loss: 0.2482 - val_accuracy: 0.9375\n",
            "Epoch 31/50\n",
            "20/20 [==============================] - 20s 980ms/step - loss: 0.6952 - accuracy: 0.7993 - val_loss: 0.0661 - val_accuracy: 1.0000\n",
            "Epoch 32/50\n",
            "20/20 [==============================] - 20s 982ms/step - loss: 0.2658 - accuracy: 0.9145 - val_loss: 0.0586 - val_accuracy: 1.0000\n",
            "Epoch 33/50\n",
            "20/20 [==============================] - 20s 1s/step - loss: 0.3705 - accuracy: 0.8699 - val_loss: 0.1502 - val_accuracy: 0.9375\n",
            "Epoch 34/50\n",
            "20/20 [==============================] - 20s 983ms/step - loss: 0.2759 - accuracy: 0.9097 - val_loss: 0.1803 - val_accuracy: 0.8750\n",
            "Epoch 35/50\n",
            "20/20 [==============================] - 20s 982ms/step - loss: 0.3439 - accuracy: 0.8878 - val_loss: 0.0090 - val_accuracy: 1.0000\n",
            "Epoch 36/50\n",
            "20/20 [==============================] - 20s 983ms/step - loss: 0.3393 - accuracy: 0.8830 - val_loss: 0.1426 - val_accuracy: 0.9375\n",
            "Epoch 37/50\n",
            "20/20 [==============================] - 20s 983ms/step - loss: 0.3358 - accuracy: 0.8988 - val_loss: 3.3153 - val_accuracy: 0.3125\n",
            "Epoch 38/50\n",
            "20/20 [==============================] - 20s 980ms/step - loss: 0.3091 - accuracy: 0.9018 - val_loss: 0.1647 - val_accuracy: 0.9375\n",
            "Epoch 39/50\n",
            "20/20 [==============================] - 20s 1s/step - loss: 0.2569 - accuracy: 0.9154 - val_loss: 0.1552 - val_accuracy: 0.9375\n",
            "Epoch 40/50\n",
            "20/20 [==============================] - 20s 980ms/step - loss: 0.3019 - accuracy: 0.9001 - val_loss: 0.0316 - val_accuracy: 1.0000\n",
            "Epoch 41/50\n",
            "20/20 [==============================] - 20s 990ms/step - loss: 0.2230 - accuracy: 0.9273 - val_loss: 0.1437 - val_accuracy: 0.9375\n",
            "Epoch 42/50\n",
            "20/20 [==============================] - 20s 990ms/step - loss: 0.2676 - accuracy: 0.9194 - val_loss: 0.6517 - val_accuracy: 0.8125\n",
            "Epoch 43/50\n",
            "20/20 [==============================] - 20s 979ms/step - loss: 0.1795 - accuracy: 0.9413 - val_loss: 0.2775 - val_accuracy: 0.8750\n",
            "Epoch 44/50\n",
            "20/20 [==============================] - 20s 979ms/step - loss: 0.3080 - accuracy: 0.9071 - val_loss: 0.0218 - val_accuracy: 1.0000\n",
            "Epoch 45/50\n",
            "20/20 [==============================] - 20s 987ms/step - loss: 0.2916 - accuracy: 0.9176 - val_loss: 0.0042 - val_accuracy: 1.0000\n",
            "Epoch 46/50\n",
            "20/20 [==============================] - 20s 978ms/step - loss: 0.1717 - accuracy: 0.9443 - val_loss: 0.2598 - val_accuracy: 0.8750\n",
            "Epoch 47/50\n",
            "20/20 [==============================] - 20s 981ms/step - loss: 0.4878 - accuracy: 0.8826 - val_loss: 0.0315 - val_accuracy: 1.0000\n",
            "Epoch 48/50\n",
            "20/20 [==============================] - 20s 982ms/step - loss: 0.1408 - accuracy: 0.9562 - val_loss: 0.0357 - val_accuracy: 1.0000\n",
            "Epoch 49/50\n",
            "20/20 [==============================] - 20s 981ms/step - loss: 0.2294 - accuracy: 0.9321 - val_loss: 0.1094 - val_accuracy: 0.9375\n",
            "Epoch 50/50\n",
            "20/20 [==============================] - 20s 983ms/step - loss: 0.1413 - accuracy: 0.9535 - val_loss: 0.0052 - val_accuracy: 1.0000\n"
          ]
        }
      ]
    },
    {
      "cell_type": "code",
      "source": [
        "import matplotlib.pyplot as plt\n",
        "acc = history.history['accuracy']\n",
        "val_acc = history.history['val_accuracy']\n",
        "loss = history.history['loss']\n",
        "val_loss = history.history['val_loss']\n",
        "\n",
        "epochs = range(len(acc))\n",
        "\n",
        "plt.plot(epochs, acc, 'r', label='Training accuracy')\n",
        "plt.plot(epochs, val_acc, 'b', label='Validation accuracy')\n",
        "plt.title('Training and validation accuracy')\n",
        "plt.legend(loc=0)\n",
        "plt.figure()\n",
        "\n",
        "\n",
        "plt.show()"
      ],
      "metadata": {
        "colab": {
          "base_uri": "https://localhost:8080/",
          "height": 300
        },
        "id": "P--6ULVafELj",
        "outputId": "2abcb880-f769-4ea8-c845-5f590173a7e1"
      },
      "execution_count": 8,
      "outputs": [
        {
          "output_type": "display_data",
          "data": {
            "text/plain": [
              "<Figure size 432x288 with 1 Axes>"
            ],
            "image/png": "[encoded data removed]"
          },
          "metadata": {
            "needs_background": "light"
          }
        },
        {
          "output_type": "display_data",
          "data": {
            "text/plain": [
              "<Figure size 432x288 with 0 Axes>"
            ]
          },
          "metadata": {}
        }
      ]
    }
  ]
}